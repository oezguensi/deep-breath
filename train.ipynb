{
 "cells": [
  {
   "cell_type": "markdown",
   "metadata": {},
   "source": [
    "# Imports"
   ]
  },
  {
   "cell_type": "code",
   "execution_count": 1,
   "metadata": {
    "scrolled": true
   },
   "outputs": [
    {
     "name": "stderr",
     "output_type": "stream",
     "text": [
      "Using TensorFlow backend.\n"
     ]
    }
   ],
   "source": [
    "import sys\n",
    "import os\n",
    "import numpy as np\n",
    "import pickle\n",
    "import matplotlib.pyplot as plt\n",
    "\n",
    "from scipy.io import loadmat\n",
    "from glob import glob\n",
    "from sklearn.model_selection import train_test_split\n",
    "from keras.callbacks import TensorBoard\n",
    "from keras.optimizers import Adadelta\n",
    "from keras.utils import multi_gpu_model\n",
    "from os.path import join, basename, isdir\n",
    "\n",
    "sys.path.append('scripts')\n",
    "from data_helpers import *\n",
    "from model_helpers import *\n",
    "\n",
    "%load_ext autoreload\n",
    "%autoreload 2"
   ]
  },
  {
   "cell_type": "code",
   "execution_count": 2,
   "metadata": {},
   "outputs": [],
   "source": [
    "os.environ['CUDA_VISIBLE_DEVICES'] = '0'"
   ]
  },
  {
   "cell_type": "code",
   "execution_count": 3,
   "metadata": {},
   "outputs": [],
   "source": [
    "OUT_PATH_MODEL = 'saved'"
   ]
  },
  {
   "cell_type": "markdown",
   "metadata": {},
   "source": [
    "# Hyperparameters"
   ]
  },
  {
   "cell_type": "code",
   "execution_count": 4,
   "metadata": {},
   "outputs": [],
   "source": [
    "# Data hyperparameters\n",
    "ratio_0_1 = 1\n",
    "excluded_classes = [1, 2, 3]\n",
    "target_size = (224, 224)\n",
    "test_ratio = 0.25\n",
    "\n",
    "# Model hyperparameters\n",
    "mobilenet_width = 1\n",
    "dense_layers = [128, 64, 32]\n",
    "\n",
    "# Train hyperparameters\n",
    "num_epochs = 500\n",
    "batch_size = 8"
   ]
  },
  {
   "cell_type": "markdown",
   "metadata": {},
   "source": [
    "# Load data"
   ]
  },
  {
   "cell_type": "code",
   "execution_count": 14,
   "metadata": {
    "scrolled": true
   },
   "outputs": [
    {
     "name": "stdout",
     "output_type": "stream",
     "text": [
      "Number of same pairs: 1974 - Number of different pairs: 2050\n"
     ]
    }
   ],
   "source": [
    "files = sorted(glob('data/imgs/*jpg'))\n",
    "classes = loadmat('data/imagelabels.mat')['labels'][0].tolist()\n",
    "\n",
    "unique_labels = set(classes)\n",
    "grouped = [[(data[0], data[1]) for data in zip(files, classes) if data[1] == label] \n",
    "           for label in unique_labels if label not in excluded_classes]\n",
    "\n",
    "exc_grouped = sorted([(data[0], data[1]) for data in zip(files, classes) \n",
    "                      for label in unique_labels if label in excluded_classes if data[1] == label], \n",
    "                     key=lambda x: x[1])\n",
    "\n",
    "same_pairs, diff_pairs, rest_data = create_pairs(grouped, ratio_0_1=ratio_0_1)\n",
    "\n",
    "print('Number of same pairs: {} - Number of different pairs: {}'.format(len(same_pairs), len(diff_pairs)))"
   ]
  },
  {
   "cell_type": "code",
   "execution_count": null,
   "metadata": {},
   "outputs": [],
   "source": [
    "pairs = same_pairs + diff_pairs\n",
    "file_pairs = [(pair[0][0], pair[1][0]) for pair in pairs]\n",
    "class_pairs = [(pair[0][1], pair[1][1]) for pair in pairs]\n",
    "labels = [int(not (pair[0] == pair[1])) for pair in class_pairs]"
   ]
  },
  {
   "cell_type": "code",
   "execution_count": null,
   "metadata": {},
   "outputs": [],
   "source": [
    "train_files, test_files, c_train, c_test, y_train, y_test = train_test_split(\n",
    "        file_pairs, class_pairs, labels, test_size=test_ratio, shuffle=True, stratify=labels)"
   ]
  },
  {
   "cell_type": "code",
   "execution_count": null,
   "metadata": {},
   "outputs": [],
   "source": [
    "train_files, test_files, c_train, c_test, y_train, y_test = train_files[:100], test_files[:100], c_train[:100], c_test[:100], y_train[:100], y_test[:100]"
   ]
  },
  {
   "cell_type": "code",
   "execution_count": null,
   "metadata": {
    "scrolled": true
   },
   "outputs": [],
   "source": [
    "x_train = create_img_pairs(train_files, 'train', target_size=target_size)\n",
    "print('Loaded train data!')\n",
    "x_test = create_img_pairs(test_files, 'test', target_size=target_size)\n",
    "print('Loaded test data!')"
   ]
  },
  {
   "cell_type": "markdown",
   "metadata": {},
   "source": [
    "## Prepare data to visualize embeddings"
   ]
  },
  {
   "cell_type": "code",
   "execution_count": 16,
   "metadata": {},
   "outputs": [],
   "source": [
    "exc_files = [data[0] for data in exc_grouped]\n",
    "exc_imgs = [(cv2.imread(data[0], -1)[:, :, ::-1] / 255.0).astype('float32') for data in exc_grouped]\n",
    "exc_classes = [data[1] for data in exc_grouped]"
   ]
  },
  {
   "cell_type": "code",
   "execution_count": null,
   "metadata": {},
   "outputs": [],
   "source": [
    "vis_files = [pair[0] for pair in test_files] + [pair[1] for pair in test_files]\n",
    "vis_imgs = np.array([pair[0] for pair in x_test] + [pair[1] for pair in x_test])\n",
    "vis_classes = [pair[0] for pair in c_test] + [pair[1] for pair in c_test]"
   ]
  },
  {
   "cell_type": "markdown",
   "metadata": {},
   "source": [
    "## Create metadata for tensorboard embedding"
   ]
  },
  {
   "cell_type": "code",
   "execution_count": null,
   "metadata": {},
   "outputs": [],
   "source": [
    "if not isdir('saved/logs'):\n",
    "    os.makedirs('saved/logs')\n",
    "\n",
    "with open('saved/logs/metadata.tsv', 'w') as f:\n",
    "    f.write('Filename\\tFlower Class\\n')\n",
    "    for file, flower_class in zip(vis_files, vis_classes):\n",
    "        f.write('{}\\t{}\\n'.format(basename(file), flower_class))"
   ]
  },
  {
   "cell_type": "code",
   "execution_count": null,
   "metadata": {
    "scrolled": true
   },
   "outputs": [],
   "source": [
    "num_vis = 10\n",
    "fig, ax = plt.subplots(nrows=num_vis, ncols=2, figsize=(15, 50))\n",
    "for row in range(num_vis):\n",
    "    for col in range(2):\n",
    "        ax[row][col].set_title('Class: {} - Label: {}'.format(c_train[row][col], y_train[row]))\n",
    "        ax[row][col].imshow(x_train[row][col])\n",
    "        ax[row][col].axis('off')\n"
   ]
  },
  {
   "cell_type": "code",
   "execution_count": null,
   "metadata": {},
   "outputs": [],
   "source": [
    "training_generator = DataGenerator(\n",
    "    x_train,\n",
    "    y_train, \n",
    "    batch_size=batch_size, \n",
    "    augment=True,\n",
    "    shuffle=True)"
   ]
  },
  {
   "cell_type": "markdown",
   "metadata": {},
   "source": [
    "# Create and compile models"
   ]
  },
  {
   "cell_type": "code",
   "execution_count": null,
   "metadata": {},
   "outputs": [],
   "source": [
    "# Create models\n",
    "encoder = create_mobile_net_encoder((*target_size, 3), dense_layers, mobilenet_width=mobilenet_width)\n",
    "siamese_model = create_siamese_model(encoder, distance_func=euclidean_distance)\n",
    "siamese_model.summary()"
   ]
  },
  {
   "cell_type": "code",
   "execution_count": null,
   "metadata": {},
   "outputs": [],
   "source": [
    "# Compile siamese model\n",
    "siamese_model.compile(loss=contrastive_loss, optimizer=Adadelta(), metrics=[siamese_accuracy])"
   ]
  },
  {
   "cell_type": "markdown",
   "metadata": {},
   "source": [
    "## Save hyperparameters in model"
   ]
  },
  {
   "cell_type": "code",
   "execution_count": null,
   "metadata": {},
   "outputs": [],
   "source": [
    "siamese_model.train_files = train_files \n",
    "siamese_model.test_files = test_files\n",
    "siamese_model.c_train = c_train\n",
    "siamese_model.c_test = c_test\n",
    "siamese_model.y_train = y_train\n",
    "siamese_model.y_test = y_test\n",
    "siamese_model.ratio_0_1 = ratio_0_1\n",
    "siamese_model.excluded_classes = excluded_classes\n",
    "siamese_model.target_size = target_size\n",
    "siamese_model.test_ratio = test_ratio\n",
    "siamese_model.mobilenet_width = mobilenet_width\n",
    "siamese_model.dense_layers = dense_layers\n",
    "siamese_model.num_epochs = num_epochs\n",
    "siamese_model.batch_size = batch_size"
   ]
  },
  {
   "cell_type": "markdown",
   "metadata": {},
   "source": [
    "# Create callbacks"
   ]
  },
  {
   "cell_type": "code",
   "execution_count": null,
   "metadata": {},
   "outputs": [],
   "source": [
    "# checkpointer = CustomModelCheckpoint(\n",
    "#     join(OUT_PATH_MODEL, 'logs'), \n",
    "#     monitor='val_loss', \n",
    "#     verbose=0, \n",
    "#     save_weights_only=False, \n",
    "#     mode='auto', \n",
    "#     period=1)\n",
    "\n",
    "tensorboard = CustomTensorBoard(\n",
    "    log_dir=join(OUT_PATH_MODEL, 'logs'),\n",
    "    batch_size=batch_size, \n",
    "    encoder=encoder,\n",
    "    embeddings_freq=1,\n",
    "    metadata_path='metadata.tsv', \n",
    "    embeddings_data=vis_imgs)"
   ]
  },
  {
   "cell_type": "markdown",
   "metadata": {},
   "source": [
    "# Train model"
   ]
  },
  {
   "cell_type": "code",
   "execution_count": null,
   "metadata": {
    "scrolled": false
   },
   "outputs": [],
   "source": [
    "# Start training\n",
    "siamese_model.fit_generator(\n",
    "    generator=training_generator,\n",
    "    validation_data=(split_imgs(np.array(x_test)), y_test),\n",
    "    epochs=num_epochs,\n",
    "    verbose=1,\n",
    "    shuffle=False,\n",
    "    use_multiprocessing=True,\n",
    "    workers=10,\n",
    "    callbacks=[tensorboard])"
   ]
  },
  {
   "cell_type": "code",
   "execution_count": null,
   "metadata": {},
   "outputs": [],
   "source": []
  }
 ],
 "metadata": {
  "kernelspec": {
   "display_name": "Python 3 (my-env)",
   "language": "python",
   "name": "my-env"
  },
  "language_info": {
   "codemirror_mode": {
    "name": "ipython",
    "version": 3
   },
   "file_extension": ".py",
   "mimetype": "text/x-python",
   "name": "python",
   "nbconvert_exporter": "python",
   "pygments_lexer": "ipython3",
   "version": "3.6.7"
  }
 },
 "nbformat": 4,
 "nbformat_minor": 1
}
