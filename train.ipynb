{
 "cells": [
  {
   "cell_type": "code",
   "execution_count": 2,
   "metadata": {},
   "outputs": [
    {
     "name": "stderr",
     "output_type": "stream",
     "text": [
      "Using TensorFlow backend.\n"
     ]
    }
   ],
   "source": [
    "import sys\n",
    "import os\n",
    "import numpy as np\n",
    "import pickle\n",
    "\n",
    "from scipy.io import loadmat\n",
    "from glob import glob\n",
    "from sklearn.model_selection import train_test_split\n",
    "from keras.callbacks import TensorBoard\n",
    "from keras.optimizers import Adadelta\n",
    "from os.path import join\n",
    "\n",
    "sys.path.append('scripts')\n",
    "from data_helpers import *\n",
    "from model_helpers import *\n",
    "\n",
    "%load_ext autoreload\n",
    "%autoreload 2"
   ]
  },
  {
   "cell_type": "code",
   "execution_count": null,
   "metadata": {},
   "outputs": [],
   "source": [
    "os.environ['CUDA_VISIBLE_DEVICES'] = '0'"
   ]
  },
  {
   "cell_type": "code",
   "execution_count": null,
   "metadata": {},
   "outputs": [],
   "source": [
    "OUT_PATH_MODEL = 'saved'"
   ]
  },
  {
   "cell_type": "code",
   "execution_count": 3,
   "metadata": {
    "collapsed": true
   },
   "outputs": [],
   "source": [
    "# Data hyperparameters\n",
    "ratio_0_1 = 1\n",
    "excluded_classes = []\n",
    "target_size = (512, 512)\n",
    "test_ratio = 0.25\n",
    "\n",
    "# Model hyperparameters\n",
    "mobilenet_width = 1\n",
    "dense_layers = [128, 64, 32]\n",
    "\n",
    "# Train hyperparameters\n",
    "num_epochs = 500\n",
    "batch_size = 32"
   ]
  },
  {
   "cell_type": "code",
   "execution_count": 5,
   "metadata": {},
   "outputs": [],
   "source": [
    "files = sorted(glob('data/imgs/*jpg'))\n",
    "labels_data = loadmat('data/imagelabels.mat')['labels'][0].tolist()\n",
    "\n",
    "unique_labels = set(labels_data)\n",
    "grouped_files = [[(data[0], data[1]) for data in zip(files, labels_data) if data[1] == label]\n",
    "                 for label in unique_labels]\n",
    "\n",
    "same_pairs, diff_pairs, rest_data = create_pairs(grouped_files, ratio_0_1=ratio_0_1)"
   ]
  },
  {
   "cell_type": "code",
   "execution_count": 19,
   "metadata": {},
   "outputs": [],
   "source": [
    "pairs = same_pairs + diff_pairs\n",
    "file_pairs = [(pair[0][0], pair[1][0]) for pair in pairs]\n",
    "class_pairs = [(pair[0][1], pair[1][1]) for pair in pairs]\n",
    "labels = [int(not (pair[0] == pair[1])) for pair in class_pairs]"
   ]
  },
  {
   "cell_type": "code",
   "execution_count": 25,
   "metadata": {},
   "outputs": [],
   "source": [
    "train_files, test_files, c_train, c_test, y_train, y_test = train_test_split(\n",
    "        file_pairs, class_pairs, labels, test_size=test_ratio, shuffle=True, stratify=labels)\n"
   ]
  },
  {
   "cell_type": "code",
   "execution_count": null,
   "metadata": {},
   "outputs": [],
   "source": [
    "x_train = data_helpers.create_img_pairs(train_files, 'train', target_size=target_size)\n",
    "x_test = data_helpers.create_img_pairs(test_files, 'test', target_size=target_size)"
   ]
  },
  {
   "cell_type": "code",
   "execution_count": null,
   "metadata": {},
   "outputs": [],
   "source": [
    "training_generator = DataGenerator(\n",
    "    x_train,\n",
    "    y_train, \n",
    "    batch_size=batch_size, \n",
    "    augment=True,\n",
    "    shuffle=True)"
   ]
  },
  {
   "cell_type": "code",
   "execution_count": null,
   "metadata": {},
   "outputs": [],
   "source": [
    "checkpointer = CustomModelCheckpoint(\n",
    "    join(OUT_PATH_MODEL, 'logs'), \n",
    "    monitor='val_loss', \n",
    "    verbose=0, \n",
    "    save_weights_only=False, \n",
    "    mode='auto', \n",
    "    period=1)\n",
    "\n",
    "tensorboard = TensorBoard(\n",
    "    log_dir=join(OUT_PATH_MODEL, 'logs'), \n",
    "    histogram_freq=0, \n",
    "    batch_size=batch_size, \n",
    "    write_graph=False, \n",
    "    write_grads=False, \n",
    "    write_images=False, \n",
    "    embeddings_freq=0,\n",
    "    embeddings_layer_names=None, \n",
    "    embeddings_metadata=None, \n",
    "    embeddings_data=None)"
   ]
  },
  {
   "cell_type": "code",
   "execution_count": null,
   "metadata": {},
   "outputs": [],
   "source": [
    "encoder = create_mobile_net_encoder((*target_size, 3), dense_layers, alpha=mobilenet_width)\n",
    "siamese_model = create_siamese_model(encoder)\n",
    "\n",
    "# Compile model\n",
    "siamese_model.compile(loss=contrastive_loss, optimizer=Adadelta(), metrics=[accuracy])"
   ]
  },
  {
   "cell_type": "code",
   "execution_count": null,
   "metadata": {},
   "outputs": [],
   "source": [
    "# Start training\n",
    "history_dict = siamese_model.fit_generator(\n",
    "    generator=training_generator,\n",
    "    validation_data=(split_imgs(np.array(x_test)), y_test),\n",
    "    epochs=num_epochs,\n",
    "    verbose=1,\n",
    "    shuffle=False,\n",
    "    use_multiprocessing=True,\n",
    "    workers=10,\n",
    "    callbacks=[checkpointer, tensorboard])\n",
    "\n",
    "# Save history\n",
    "with open(join(OUT_PATH_MODEL, 'history.pkl'), 'wb') as f:\n",
    "    pickle.dump(history_dict.history, f)"
   ]
  }
 ],
 "metadata": {
  "kernelspec": {
   "display_name": "Python 2",
   "language": "python",
   "name": "python2"
  },
  "language_info": {
   "codemirror_mode": {
    "name": "ipython",
    "version": 2
   },
   "file_extension": ".py",
   "mimetype": "text/x-python",
   "name": "python",
   "nbconvert_exporter": "python",
   "pygments_lexer": "ipython2",
   "version": "2.7.6"
  }
 },
 "nbformat": 4,
 "nbformat_minor": 0
}
